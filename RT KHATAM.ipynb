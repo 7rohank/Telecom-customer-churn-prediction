{
 "cells": [
  {
   "cell_type": "markdown",
   "id": "f70989ef",
   "metadata": {
    "id": "f70989ef"
   },
   "source": [
    "# DATA PREPROCESSING"
   ]
  },
  {
   "cell_type": "code",
   "execution_count": null,
   "id": "78ef59ec",
   "metadata": {
    "id": "78ef59ec"
   },
   "outputs": [],
   "source": [
    "#import library"
   ]
  },
  {
   "cell_type": "code",
   "execution_count": 4,
   "id": "0a3c5809",
   "metadata": {
    "id": "0a3c5809"
   },
   "outputs": [],
   "source": [
    "import pandas as pd\n",
    "import plotly.graph_objects as go\n",
    "import plotly.express as px\n",
    "import plotly.io as pio\n",
    "import numpy as np\n",
    "import seaborn as sns\n",
    "import matplotlib.pyplot as plt\n",
    "#import missingno as msno\n",
    "from sklearn.model_selection import train_test_split\n",
    "from sklearn.metrics import classification_report, confusion_matrix ,ConfusionMatrixDisplay\n",
    "from imblearn.over_sampling import SMOTE"
   ]
  },
  {
   "cell_type": "code",
   "execution_count": null,
   "id": "445b4f9f",
   "metadata": {
    "id": "445b4f9f"
   },
   "outputs": [],
   "source": [
    "#read file "
   ]
  },
  {
   "cell_type": "code",
   "execution_count": 5,
   "id": "383914a8",
   "metadata": {
    "colab": {
     "base_uri": "https://localhost:8080/",
     "height": 311
    },
    "id": "383914a8",
    "outputId": "3d64d7c9-690a-4605-fe80-9fd374e324dd"
   },
   "outputs": [],
   "source": [
    "data = pd.read_csv(r\"C:\\Users\\likhi\\Documents\\sem2\\rt\\WA_Fn-UseC_-Telco-Customer-Churn.csv\")"
   ]
  },
  {
   "cell_type": "code",
   "execution_count": null,
   "id": "74c9fafb",
   "metadata": {
    "id": "74c9fafb"
   },
   "outputs": [],
   "source": [
    "# view data"
   ]
  },
  {
   "cell_type": "code",
   "execution_count": 52,
   "id": "a93d09d1",
   "metadata": {
    "id": "a93d09d1",
    "outputId": "93b07aed-8065-4640-c053-711380bc3ba7"
   },
   "outputs": [
    {
     "data": {
      "text/html": [
       "<div>\n",
       "<style scoped>\n",
       "    .dataframe tbody tr th:only-of-type {\n",
       "        vertical-align: middle;\n",
       "    }\n",
       "\n",
       "    .dataframe tbody tr th {\n",
       "        vertical-align: top;\n",
       "    }\n",
       "\n",
       "    .dataframe thead th {\n",
       "        text-align: right;\n",
       "    }\n",
       "</style>\n",
       "<table border=\"1\" class=\"dataframe\">\n",
       "  <thead>\n",
       "    <tr style=\"text-align: right;\">\n",
       "      <th></th>\n",
       "      <th>customerID</th>\n",
       "      <th>gender</th>\n",
       "      <th>Senior Citizen</th>\n",
       "      <th>Partner</th>\n",
       "      <th>Dependents</th>\n",
       "      <th>Tenure Months</th>\n",
       "      <th>Phone Service</th>\n",
       "      <th>Multiple Lines</th>\n",
       "      <th>Internet Service</th>\n",
       "      <th>Online Security</th>\n",
       "      <th>...</th>\n",
       "      <th>Device Protection</th>\n",
       "      <th>Tech Support</th>\n",
       "      <th>Streaming TV</th>\n",
       "      <th>Streaming Movies</th>\n",
       "      <th>Contract</th>\n",
       "      <th>Paperless Billing</th>\n",
       "      <th>Payment Method</th>\n",
       "      <th>Monthly Charges</th>\n",
       "      <th>Total Charges</th>\n",
       "      <th>Churn</th>\n",
       "    </tr>\n",
       "  </thead>\n",
       "  <tbody>\n",
       "    <tr>\n",
       "      <th>0</th>\n",
       "      <td>4472-LVYGI</td>\n",
       "      <td>Female</td>\n",
       "      <td>No</td>\n",
       "      <td>Yes</td>\n",
       "      <td>Yes</td>\n",
       "      <td>0</td>\n",
       "      <td>No</td>\n",
       "      <td>No phone service</td>\n",
       "      <td>DSL</td>\n",
       "      <td>Yes</td>\n",
       "      <td>...</td>\n",
       "      <td>Yes</td>\n",
       "      <td>Yes</td>\n",
       "      <td>Yes</td>\n",
       "      <td>No</td>\n",
       "      <td>Two year</td>\n",
       "      <td>Yes</td>\n",
       "      <td>Bank transfer (automatic)</td>\n",
       "      <td>52.55</td>\n",
       "      <td></td>\n",
       "      <td>No</td>\n",
       "    </tr>\n",
       "    <tr>\n",
       "      <th>1</th>\n",
       "      <td>3115-CZMZD</td>\n",
       "      <td>Male</td>\n",
       "      <td>No</td>\n",
       "      <td>No</td>\n",
       "      <td>Yes</td>\n",
       "      <td>0</td>\n",
       "      <td>Yes</td>\n",
       "      <td>No</td>\n",
       "      <td>No</td>\n",
       "      <td>No internet service</td>\n",
       "      <td>...</td>\n",
       "      <td>No internet service</td>\n",
       "      <td>No internet service</td>\n",
       "      <td>No internet service</td>\n",
       "      <td>No internet service</td>\n",
       "      <td>Two year</td>\n",
       "      <td>No</td>\n",
       "      <td>Mailed check</td>\n",
       "      <td>20.25</td>\n",
       "      <td></td>\n",
       "      <td>No</td>\n",
       "    </tr>\n",
       "    <tr>\n",
       "      <th>2</th>\n",
       "      <td>5709-LVOEQ</td>\n",
       "      <td>Female</td>\n",
       "      <td>No</td>\n",
       "      <td>Yes</td>\n",
       "      <td>Yes</td>\n",
       "      <td>0</td>\n",
       "      <td>Yes</td>\n",
       "      <td>No</td>\n",
       "      <td>DSL</td>\n",
       "      <td>Yes</td>\n",
       "      <td>...</td>\n",
       "      <td>Yes</td>\n",
       "      <td>No</td>\n",
       "      <td>Yes</td>\n",
       "      <td>Yes</td>\n",
       "      <td>Two year</td>\n",
       "      <td>No</td>\n",
       "      <td>Mailed check</td>\n",
       "      <td>80.85</td>\n",
       "      <td></td>\n",
       "      <td>No</td>\n",
       "    </tr>\n",
       "    <tr>\n",
       "      <th>3</th>\n",
       "      <td>4367-NUYAO</td>\n",
       "      <td>Male</td>\n",
       "      <td>No</td>\n",
       "      <td>Yes</td>\n",
       "      <td>Yes</td>\n",
       "      <td>0</td>\n",
       "      <td>Yes</td>\n",
       "      <td>Yes</td>\n",
       "      <td>No</td>\n",
       "      <td>No internet service</td>\n",
       "      <td>...</td>\n",
       "      <td>No internet service</td>\n",
       "      <td>No internet service</td>\n",
       "      <td>No internet service</td>\n",
       "      <td>No internet service</td>\n",
       "      <td>Two year</td>\n",
       "      <td>No</td>\n",
       "      <td>Mailed check</td>\n",
       "      <td>25.75</td>\n",
       "      <td></td>\n",
       "      <td>No</td>\n",
       "    </tr>\n",
       "    <tr>\n",
       "      <th>4</th>\n",
       "      <td>1371-DWPAZ</td>\n",
       "      <td>Female</td>\n",
       "      <td>No</td>\n",
       "      <td>Yes</td>\n",
       "      <td>Yes</td>\n",
       "      <td>0</td>\n",
       "      <td>No</td>\n",
       "      <td>No phone service</td>\n",
       "      <td>DSL</td>\n",
       "      <td>Yes</td>\n",
       "      <td>...</td>\n",
       "      <td>Yes</td>\n",
       "      <td>Yes</td>\n",
       "      <td>Yes</td>\n",
       "      <td>No</td>\n",
       "      <td>Two year</td>\n",
       "      <td>No</td>\n",
       "      <td>Credit card (automatic)</td>\n",
       "      <td>56.05</td>\n",
       "      <td></td>\n",
       "      <td>No</td>\n",
       "    </tr>\n",
       "  </tbody>\n",
       "</table>\n",
       "<p>5 rows × 21 columns</p>\n",
       "</div>"
      ],
      "text/plain": [
       "   customerID  gender Senior Citizen Partner Dependents  Tenure Months  \\\n",
       "0  4472-LVYGI  Female             No     Yes        Yes              0   \n",
       "1  3115-CZMZD    Male             No      No        Yes              0   \n",
       "2  5709-LVOEQ  Female             No     Yes        Yes              0   \n",
       "3  4367-NUYAO    Male             No     Yes        Yes              0   \n",
       "4  1371-DWPAZ  Female             No     Yes        Yes              0   \n",
       "\n",
       "  Phone Service    Multiple Lines Internet Service      Online Security  ...  \\\n",
       "0            No  No phone service              DSL                  Yes  ...   \n",
       "1           Yes                No               No  No internet service  ...   \n",
       "2           Yes                No              DSL                  Yes  ...   \n",
       "3           Yes               Yes               No  No internet service  ...   \n",
       "4            No  No phone service              DSL                  Yes  ...   \n",
       "\n",
       "     Device Protection         Tech Support         Streaming TV  \\\n",
       "0                  Yes                  Yes                  Yes   \n",
       "1  No internet service  No internet service  No internet service   \n",
       "2                  Yes                   No                  Yes   \n",
       "3  No internet service  No internet service  No internet service   \n",
       "4                  Yes                  Yes                  Yes   \n",
       "\n",
       "      Streaming Movies  Contract Paperless Billing             Payment Method  \\\n",
       "0                   No  Two year               Yes  Bank transfer (automatic)   \n",
       "1  No internet service  Two year                No               Mailed check   \n",
       "2                  Yes  Two year                No               Mailed check   \n",
       "3  No internet service  Two year                No               Mailed check   \n",
       "4                   No  Two year                No    Credit card (automatic)   \n",
       "\n",
       "  Monthly Charges  Total Charges Churn  \n",
       "0           52.55                   No  \n",
       "1           20.25                   No  \n",
       "2           80.85                   No  \n",
       "3           25.75                   No  \n",
       "4           56.05                   No  \n",
       "\n",
       "[5 rows x 21 columns]"
      ]
     },
     "execution_count": 52,
     "metadata": {},
     "output_type": "execute_result"
    }
   ],
   "source": [
    "data.head()"
   ]
  },
  {
   "cell_type": "code",
   "execution_count": null,
   "id": "83fdd1c3",
   "metadata": {
    "id": "83fdd1c3"
   },
   "outputs": [],
   "source": [
    "# check no of cases"
   ]
  },
  {
   "cell_type": "code",
   "execution_count": 4,
   "id": "02e83822",
   "metadata": {
    "id": "02e83822",
    "outputId": "6459377e-b8f7-44b1-f0bd-747e3d69081d"
   },
   "outputs": [
    {
     "data": {
      "text/plain": [
       "(7043, 21)"
      ]
     },
     "execution_count": 4,
     "metadata": {},
     "output_type": "execute_result"
    }
   ],
   "source": [
    "data.shape"
   ]
  },
  {
   "cell_type": "code",
   "execution_count": null,
   "id": "138bd11b",
   "metadata": {
    "id": "138bd11b"
   },
   "outputs": [],
   "source": [
    "#fill blank space"
   ]
  },
  {
   "cell_type": "code",
   "execution_count": 6,
   "id": "75f6b23c",
   "metadata": {
    "id": "75f6b23c"
   },
   "outputs": [],
   "source": [
    "data.columns= data.columns.str.replace(\" \",\"_\")"
   ]
  },
  {
   "cell_type": "code",
   "execution_count": null,
   "id": "75753dcc",
   "metadata": {
    "id": "75753dcc"
   },
   "outputs": [],
   "source": [
    "# see all features"
   ]
  },
  {
   "cell_type": "code",
   "execution_count": null,
   "id": "91c04c66",
   "metadata": {
    "id": "91c04c66",
    "outputId": "02fe6d23-eeb3-4614-9b1f-a039c1f73b3f"
   },
   "outputs": [
    {
     "data": {
      "text/plain": [
       "Index(['customerID', 'gender', 'Senior_Citizen', 'Partner', 'Dependents',\n",
       "       'Tenure_Months', 'Phone_Service', 'Multiple_Lines', 'Internet_Service',\n",
       "       'Online_Security', 'Online_Backup', 'Device_Protection', 'Tech_Support',\n",
       "       'Streaming_TV', 'Streaming_Movies', 'Contract', 'Paperless_Billing',\n",
       "       'Payment_Method', 'Monthly_Charges', 'Total_Charges', 'Churn'],\n",
       "      dtype='object')"
      ]
     },
     "execution_count": 15,
     "metadata": {},
     "output_type": "execute_result"
    }
   ],
   "source": [
    "data.columns"
   ]
  },
  {
   "cell_type": "code",
   "execution_count": 6,
   "id": "1e2a72ed",
   "metadata": {
    "id": "1e2a72ed",
    "outputId": "6c2f1b65-c723-4831-e554-36bb0258a7a9"
   },
   "outputs": [
    {
     "name": "stdout",
     "output_type": "stream",
     "text": [
      "Column: customerID - Unique Values: ['4472-LVYGI' '3115-CZMZD' '5709-LVOEQ' ... '7203-OYKCT' '2569-WGERO'\n",
      " '2234-XADUH']\n",
      "Column: gender - Unique Values: ['Female' 'Male']\n",
      "Column: Senior_Citizen - Unique Values: ['No' 'Yes']\n",
      "Column: Partner - Unique Values: ['Yes' 'No']\n",
      "Column: Dependents - Unique Values: ['Yes' 'No']\n",
      "Column: Tenure_Months - Unique Values: [ 0  1  2  3  4  5  6  7  8  9 10 11 12 13 14 15 16 17 18 19 20 21 22 23\n",
      " 24 25 26 27 28 29 30 31 32 33 34 35 36 37 38 39 40 41 42 43 44 45 46 47\n",
      " 48 49 50 51 52 53 54 55 56 57 58 59 60 61 62 63 64 65 66 67 68 69 70 71\n",
      " 72]\n",
      "Column: Phone_Service - Unique Values: ['No' 'Yes']\n",
      "Column: Multiple_Lines - Unique Values: ['No phone service' 'No' 'Yes']\n",
      "Column: Internet_Service - Unique Values: ['DSL' 'No' 'Fiber optic']\n",
      "Column: Online_Security - Unique Values: ['Yes' 'No internet service' 'No']\n",
      "Column: Online_Backup - Unique Values: ['No' 'No internet service' 'Yes']\n",
      "Column: Device_Protection - Unique Values: ['Yes' 'No internet service' 'No']\n",
      "Column: Tech_Support - Unique Values: ['Yes' 'No internet service' 'No']\n",
      "Column: Streaming_TV - Unique Values: ['Yes' 'No internet service' 'No']\n",
      "Column: Streaming_Movies - Unique Values: ['No' 'No internet service' 'Yes']\n",
      "Column: Contract - Unique Values: ['Two year' 'One year' 'Month-to-month']\n",
      "Column: Paperless_Billing - Unique Values: ['Yes' 'No']\n",
      "Column: Payment_Method - Unique Values: ['Bank transfer (automatic)' 'Mailed check' 'Credit card (automatic)'\n",
      " 'Electronic check']\n",
      "Column: Monthly_Charges - Unique Values: [ 52.55  20.25  80.85 ... 118.2  117.5   63.1 ]\n",
      "Column: Total_Charges - Unique Values: [' ' '29.85' '39.65' ... '7544.3' '1419.4' '7362.9']\n",
      "Column: Churn - Unique Values: ['No' 'Yes']\n"
     ]
    }
   ],
   "source": [
    "for column in data:\n",
    "    print('Column: {} - Unique Values: {}'.format(column, data[column].unique()))"
   ]
  },
  {
   "cell_type": "code",
   "execution_count": null,
   "id": "01ab21ea",
   "metadata": {
    "id": "01ab21ea"
   },
   "outputs": [],
   "source": [
    "# missing data "
   ]
  },
  {
   "cell_type": "code",
   "execution_count": 101,
   "id": "e37d0d6d",
   "metadata": {
    "id": "e37d0d6d",
    "outputId": "372aaa20-e8ed-48ed-8fdb-13c0ffad9b37"
   },
   "outputs": [
    {
     "data": {
      "text/html": [
       "<div>\n",
       "<style scoped>\n",
       "    .dataframe tbody tr th:only-of-type {\n",
       "        vertical-align: middle;\n",
       "    }\n",
       "\n",
       "    .dataframe tbody tr th {\n",
       "        vertical-align: top;\n",
       "    }\n",
       "\n",
       "    .dataframe thead th {\n",
       "        text-align: right;\n",
       "    }\n",
       "</style>\n",
       "<table border=\"1\" class=\"dataframe\">\n",
       "  <thead>\n",
       "    <tr style=\"text-align: right;\">\n",
       "      <th></th>\n",
       "      <th>gender</th>\n",
       "      <th>Senior_Citizen</th>\n",
       "      <th>Partner</th>\n",
       "      <th>Dependents</th>\n",
       "      <th>Tenure_Months</th>\n",
       "      <th>Phone_Service</th>\n",
       "      <th>Multiple_Lines</th>\n",
       "      <th>Internet_Service</th>\n",
       "      <th>Online_Security</th>\n",
       "      <th>Online_Backup</th>\n",
       "      <th>...</th>\n",
       "      <th>Tech_Support</th>\n",
       "      <th>Streaming_TV</th>\n",
       "      <th>Streaming_Movies</th>\n",
       "      <th>Contract</th>\n",
       "      <th>Paperless_Billing</th>\n",
       "      <th>Payment_Method</th>\n",
       "      <th>Monthly_Charges</th>\n",
       "      <th>Total_Charges</th>\n",
       "      <th>Churn</th>\n",
       "      <th>Number_Additional_Services</th>\n",
       "    </tr>\n",
       "  </thead>\n",
       "  <tbody>\n",
       "  </tbody>\n",
       "</table>\n",
       "<p>0 rows × 21 columns</p>\n",
       "</div>"
      ],
      "text/plain": [
       "Empty DataFrame\n",
       "Columns: [gender, Senior_Citizen, Partner, Dependents, Tenure_Months, Phone_Service, Multiple_Lines, Internet_Service, Online_Security, Online_Backup, Device_Protection, Tech_Support, Streaming_TV, Streaming_Movies, Contract, Paperless_Billing, Payment_Method, Monthly_Charges, Total_Charges, Churn, Number_Additional_Services]\n",
       "Index: []\n",
       "\n",
       "[0 rows x 21 columns]"
      ]
     },
     "execution_count": 101,
     "metadata": {},
     "output_type": "execute_result"
    }
   ],
   "source": [
    "data.loc[data['Total_Charges']== \" \"]"
   ]
  },
  {
   "cell_type": "code",
   "execution_count": null,
   "id": "3ef5fb9f",
   "metadata": {
    "id": "3ef5fb9f"
   },
   "outputs": [],
   "source": [
    "# impute missing data"
   ]
  },
  {
   "cell_type": "code",
   "execution_count": 7,
   "id": "c10a6809",
   "metadata": {
    "id": "c10a6809"
   },
   "outputs": [],
   "source": [
    "data.loc[(data['Total_Charges'] == \" \" ,\"Total_Charges\")]= 0"
   ]
  },
  {
   "cell_type": "code",
   "execution_count": null,
   "id": "a503f085",
   "metadata": {
    "id": "a503f085"
   },
   "outputs": [],
   "source": [
    "# data types"
   ]
  },
  {
   "cell_type": "code",
   "execution_count": null,
   "id": "0cce675b",
   "metadata": {
    "id": "0cce675b",
    "outputId": "5040a689-2df3-4263-b1c4-b28961a63280"
   },
   "outputs": [
    {
     "name": "stdout",
     "output_type": "stream",
     "text": [
      "<class 'pandas.core.frame.DataFrame'>\n",
      "RangeIndex: 7043 entries, 0 to 7042\n",
      "Data columns (total 21 columns):\n",
      " #   Column             Non-Null Count  Dtype  \n",
      "---  ------             --------------  -----  \n",
      " 0   customerID         7043 non-null   object \n",
      " 1   gender             7043 non-null   object \n",
      " 2   Senior_Citizen     7043 non-null   object \n",
      " 3   Partner            7043 non-null   object \n",
      " 4   Dependents         7043 non-null   object \n",
      " 5   Tenure_Months      7043 non-null   int64  \n",
      " 6   Phone_Service      7043 non-null   object \n",
      " 7   Multiple_Lines     7043 non-null   object \n",
      " 8   Internet_Service   7043 non-null   object \n",
      " 9   Online_Security    7043 non-null   object \n",
      " 10  Online_Backup      7043 non-null   object \n",
      " 11  Device_Protection  7043 non-null   object \n",
      " 12  Tech_Support       7043 non-null   object \n",
      " 13  Streaming_TV       7043 non-null   object \n",
      " 14  Streaming_Movies   7043 non-null   object \n",
      " 15  Contract           7043 non-null   object \n",
      " 16  Paperless_Billing  7043 non-null   object \n",
      " 17  Payment_Method     7043 non-null   object \n",
      " 18  Monthly_Charges    7043 non-null   float64\n",
      " 19  Total_Charges      7043 non-null   object \n",
      " 20  Churn              7043 non-null   object \n",
      "dtypes: float64(1), int64(1), object(19)\n",
      "memory usage: 1.1+ MB\n"
     ]
    }
   ],
   "source": [
    "data.info()"
   ]
  },
  {
   "cell_type": "code",
   "execution_count": null,
   "id": "51449878",
   "metadata": {
    "id": "51449878"
   },
   "outputs": [],
   "source": [
    "# convert data to numeric"
   ]
  },
  {
   "cell_type": "code",
   "execution_count": 8,
   "id": "92cef37b",
   "metadata": {
    "id": "92cef37b"
   },
   "outputs": [],
   "source": [
    "data['Total_Charges'] = pd.to_numeric(data['Total_Charges'],errors= \"coerce\")"
   ]
  },
  {
   "cell_type": "code",
   "execution_count": null,
   "id": "1258f737",
   "metadata": {
    "id": "1258f737"
   },
   "outputs": [],
   "source": [
    "# check outliers"
   ]
  },
  {
   "cell_type": "code",
   "execution_count": 56,
   "id": "561807f0",
   "metadata": {
    "id": "561807f0",
    "outputId": "75824d26-80bf-4f31-ecf4-2e1cbcbf6254"
   },
   "outputs": [
    {
     "data": {
      "text/plain": [
       "Tenure_Months      False\n",
       "Monthly_Charges    False\n",
       "Total_Charges      False\n",
       "dtype: bool"
      ]
     },
     "execution_count": 56,
     "metadata": {},
     "output_type": "execute_result"
    }
   ],
   "source": [
    "num_features= ['Tenure_Months', 'Monthly_Charges', 'Total_Charges']\n",
    "df_num = data[num_features]\n",
    "df_num.describe()\n",
    "\n",
    "Q1 = df_num.quantile(0.25)\n",
    "Q3 = df_num.quantile(0.75)\n",
    "IQR = Q3 - Q1\n",
    "IQR\n",
    "((df_num < (Q1 - 1.5 * IQR)) | (df_num > (Q3 + 1.5 * IQR))).any()"
   ]
  },
  {
   "cell_type": "code",
   "execution_count": null,
   "id": "7e5704e6",
   "metadata": {
    "id": "7e5704e6"
   },
   "outputs": [],
   "source": [
    "# remove customerid"
   ]
  },
  {
   "cell_type": "code",
   "execution_count": 9,
   "id": "23c87d0b",
   "metadata": {
    "id": "23c87d0b"
   },
   "outputs": [],
   "source": [
    "data = data.drop(['customerID'], axis=1)"
   ]
  },
  {
   "cell_type": "code",
   "execution_count": 10,
   "id": "04af63b1",
   "metadata": {
    "id": "04af63b1"
   },
   "outputs": [],
   "source": [
    "df = data.drop(['Churn'], axis=1)"
   ]
  },
  {
   "cell_type": "code",
   "execution_count": null,
   "id": "68cf7e06",
   "metadata": {
    "id": "68cf7e06"
   },
   "outputs": [],
   "source": [
    "# feature engineering"
   ]
  },
  {
   "cell_type": "code",
   "execution_count": 11,
   "id": "6da8ef64",
   "metadata": {
    "id": "6da8ef64"
   },
   "outputs": [],
   "source": [
    "data['Number_Additional_Services'] = (data[['Online_Security', 'Device_Protection', 'Streaming_Movies', 'Tech_Support', 'Streaming_TV', 'Online_Backup']] == 'Yes').sum(axis=1)"
   ]
  },
  {
   "cell_type": "markdown",
   "id": "c9119c7c",
   "metadata": {
    "id": "c9119c7c"
   },
   "source": [
    "# DATA VISUALIZATION"
   ]
  },
  {
   "cell_type": "code",
   "execution_count": null,
   "id": "2b708830",
   "metadata": {
    "id": "2b708830"
   },
   "outputs": [],
   "source": [
    "# done in tableau"
   ]
  },
  {
   "cell_type": "markdown",
   "id": "35fd314a",
   "metadata": {
    "id": "35fd314a"
   },
   "source": [
    "# DATA MODELING"
   ]
  },
  {
   "cell_type": "code",
   "execution_count": null,
   "id": "362353ef",
   "metadata": {
    "id": "362353ef"
   },
   "outputs": [],
   "source": [
    "#labeling data"
   ]
  },
  {
   "cell_type": "code",
   "execution_count": 12,
   "id": "4e3612ea",
   "metadata": {
    "id": "4e3612ea"
   },
   "outputs": [],
   "source": [
    "data[\"Churn\"]= data[\"Churn\"].map({\"Yes\":1,\"No\":0})"
   ]
  },
  {
   "cell_type": "code",
   "execution_count": 13,
   "id": "6ac46c38",
   "metadata": {},
   "outputs": [],
   "source": [
    "from sklearn.preprocessing import LabelEncoder\n",
    "le = LabelEncoder()"
   ]
  },
  {
   "cell_type": "code",
   "execution_count": 14,
   "id": "e759710f",
   "metadata": {},
   "outputs": [],
   "source": [
    "categ = [ \"gender\"  ,\"Senior_Citizen\",    \"Partner\"       ,  \"Dependents\"   ,   \"Phone_Service\"  ,   \"Multiple_Lines\"   ,   \"Internet_Service\" , \"Online_Security\", \"Online_Backup\" ,\"Device_Protection\", \"Tech_Support\" ,\"Streaming_TV\" ,\"Streaming_Movies\", \"Contract\" ,\"Paperless_Billing\" ,\"Payment_Method\"]\n",
    "\n",
    "# Encode Categorical Columns\n",
    "le = LabelEncoder()\n",
    "data[categ] = data[categ].apply(le.fit_transform)"
   ]
  },
  {
   "cell_type": "code",
   "execution_count": 15,
   "id": "5e761e20",
   "metadata": {},
   "outputs": [
    {
     "data": {
      "text/html": [
       "<div>\n",
       "<style scoped>\n",
       "    .dataframe tbody tr th:only-of-type {\n",
       "        vertical-align: middle;\n",
       "    }\n",
       "\n",
       "    .dataframe tbody tr th {\n",
       "        vertical-align: top;\n",
       "    }\n",
       "\n",
       "    .dataframe thead th {\n",
       "        text-align: right;\n",
       "    }\n",
       "</style>\n",
       "<table border=\"1\" class=\"dataframe\">\n",
       "  <thead>\n",
       "    <tr style=\"text-align: right;\">\n",
       "      <th></th>\n",
       "      <th>gender</th>\n",
       "      <th>Senior_Citizen</th>\n",
       "      <th>Partner</th>\n",
       "      <th>Dependents</th>\n",
       "      <th>Tenure_Months</th>\n",
       "      <th>Phone_Service</th>\n",
       "      <th>Multiple_Lines</th>\n",
       "      <th>Internet_Service</th>\n",
       "      <th>Online_Security</th>\n",
       "      <th>Online_Backup</th>\n",
       "      <th>...</th>\n",
       "      <th>Tech_Support</th>\n",
       "      <th>Streaming_TV</th>\n",
       "      <th>Streaming_Movies</th>\n",
       "      <th>Contract</th>\n",
       "      <th>Paperless_Billing</th>\n",
       "      <th>Payment_Method</th>\n",
       "      <th>Monthly_Charges</th>\n",
       "      <th>Total_Charges</th>\n",
       "      <th>Churn</th>\n",
       "      <th>Number_Additional_Services</th>\n",
       "    </tr>\n",
       "  </thead>\n",
       "  <tbody>\n",
       "    <tr>\n",
       "      <th>0</th>\n",
       "      <td>0</td>\n",
       "      <td>0</td>\n",
       "      <td>1</td>\n",
       "      <td>1</td>\n",
       "      <td>0</td>\n",
       "      <td>0</td>\n",
       "      <td>1</td>\n",
       "      <td>0</td>\n",
       "      <td>2</td>\n",
       "      <td>0</td>\n",
       "      <td>...</td>\n",
       "      <td>2</td>\n",
       "      <td>2</td>\n",
       "      <td>0</td>\n",
       "      <td>2</td>\n",
       "      <td>1</td>\n",
       "      <td>0</td>\n",
       "      <td>52.55</td>\n",
       "      <td>0.00</td>\n",
       "      <td>0</td>\n",
       "      <td>4</td>\n",
       "    </tr>\n",
       "    <tr>\n",
       "      <th>1</th>\n",
       "      <td>1</td>\n",
       "      <td>0</td>\n",
       "      <td>0</td>\n",
       "      <td>1</td>\n",
       "      <td>0</td>\n",
       "      <td>1</td>\n",
       "      <td>0</td>\n",
       "      <td>2</td>\n",
       "      <td>1</td>\n",
       "      <td>1</td>\n",
       "      <td>...</td>\n",
       "      <td>1</td>\n",
       "      <td>1</td>\n",
       "      <td>1</td>\n",
       "      <td>2</td>\n",
       "      <td>0</td>\n",
       "      <td>3</td>\n",
       "      <td>20.25</td>\n",
       "      <td>0.00</td>\n",
       "      <td>0</td>\n",
       "      <td>0</td>\n",
       "    </tr>\n",
       "    <tr>\n",
       "      <th>2</th>\n",
       "      <td>0</td>\n",
       "      <td>0</td>\n",
       "      <td>1</td>\n",
       "      <td>1</td>\n",
       "      <td>0</td>\n",
       "      <td>1</td>\n",
       "      <td>0</td>\n",
       "      <td>0</td>\n",
       "      <td>2</td>\n",
       "      <td>2</td>\n",
       "      <td>...</td>\n",
       "      <td>0</td>\n",
       "      <td>2</td>\n",
       "      <td>2</td>\n",
       "      <td>2</td>\n",
       "      <td>0</td>\n",
       "      <td>3</td>\n",
       "      <td>80.85</td>\n",
       "      <td>0.00</td>\n",
       "      <td>0</td>\n",
       "      <td>5</td>\n",
       "    </tr>\n",
       "    <tr>\n",
       "      <th>3</th>\n",
       "      <td>1</td>\n",
       "      <td>0</td>\n",
       "      <td>1</td>\n",
       "      <td>1</td>\n",
       "      <td>0</td>\n",
       "      <td>1</td>\n",
       "      <td>2</td>\n",
       "      <td>2</td>\n",
       "      <td>1</td>\n",
       "      <td>1</td>\n",
       "      <td>...</td>\n",
       "      <td>1</td>\n",
       "      <td>1</td>\n",
       "      <td>1</td>\n",
       "      <td>2</td>\n",
       "      <td>0</td>\n",
       "      <td>3</td>\n",
       "      <td>25.75</td>\n",
       "      <td>0.00</td>\n",
       "      <td>0</td>\n",
       "      <td>0</td>\n",
       "    </tr>\n",
       "    <tr>\n",
       "      <th>4</th>\n",
       "      <td>0</td>\n",
       "      <td>0</td>\n",
       "      <td>1</td>\n",
       "      <td>1</td>\n",
       "      <td>0</td>\n",
       "      <td>0</td>\n",
       "      <td>1</td>\n",
       "      <td>0</td>\n",
       "      <td>2</td>\n",
       "      <td>2</td>\n",
       "      <td>...</td>\n",
       "      <td>2</td>\n",
       "      <td>2</td>\n",
       "      <td>0</td>\n",
       "      <td>2</td>\n",
       "      <td>0</td>\n",
       "      <td>1</td>\n",
       "      <td>56.05</td>\n",
       "      <td>0.00</td>\n",
       "      <td>0</td>\n",
       "      <td>5</td>\n",
       "    </tr>\n",
       "    <tr>\n",
       "      <th>...</th>\n",
       "      <td>...</td>\n",
       "      <td>...</td>\n",
       "      <td>...</td>\n",
       "      <td>...</td>\n",
       "      <td>...</td>\n",
       "      <td>...</td>\n",
       "      <td>...</td>\n",
       "      <td>...</td>\n",
       "      <td>...</td>\n",
       "      <td>...</td>\n",
       "      <td>...</td>\n",
       "      <td>...</td>\n",
       "      <td>...</td>\n",
       "      <td>...</td>\n",
       "      <td>...</td>\n",
       "      <td>...</td>\n",
       "      <td>...</td>\n",
       "      <td>...</td>\n",
       "      <td>...</td>\n",
       "      <td>...</td>\n",
       "      <td>...</td>\n",
       "    </tr>\n",
       "    <tr>\n",
       "      <th>7038</th>\n",
       "      <td>0</td>\n",
       "      <td>0</td>\n",
       "      <td>1</td>\n",
       "      <td>1</td>\n",
       "      <td>72</td>\n",
       "      <td>1</td>\n",
       "      <td>0</td>\n",
       "      <td>0</td>\n",
       "      <td>2</td>\n",
       "      <td>2</td>\n",
       "      <td>...</td>\n",
       "      <td>2</td>\n",
       "      <td>0</td>\n",
       "      <td>2</td>\n",
       "      <td>2</td>\n",
       "      <td>1</td>\n",
       "      <td>2</td>\n",
       "      <td>74.35</td>\n",
       "      <td>5237.40</td>\n",
       "      <td>0</td>\n",
       "      <td>5</td>\n",
       "    </tr>\n",
       "    <tr>\n",
       "      <th>7039</th>\n",
       "      <td>1</td>\n",
       "      <td>1</td>\n",
       "      <td>1</td>\n",
       "      <td>0</td>\n",
       "      <td>72</td>\n",
       "      <td>0</td>\n",
       "      <td>1</td>\n",
       "      <td>0</td>\n",
       "      <td>2</td>\n",
       "      <td>2</td>\n",
       "      <td>...</td>\n",
       "      <td>2</td>\n",
       "      <td>2</td>\n",
       "      <td>2</td>\n",
       "      <td>2</td>\n",
       "      <td>1</td>\n",
       "      <td>0</td>\n",
       "      <td>63.10</td>\n",
       "      <td>4685.55</td>\n",
       "      <td>0</td>\n",
       "      <td>6</td>\n",
       "    </tr>\n",
       "    <tr>\n",
       "      <th>7040</th>\n",
       "      <td>1</td>\n",
       "      <td>0</td>\n",
       "      <td>0</td>\n",
       "      <td>0</td>\n",
       "      <td>72</td>\n",
       "      <td>1</td>\n",
       "      <td>2</td>\n",
       "      <td>1</td>\n",
       "      <td>0</td>\n",
       "      <td>2</td>\n",
       "      <td>...</td>\n",
       "      <td>0</td>\n",
       "      <td>2</td>\n",
       "      <td>2</td>\n",
       "      <td>1</td>\n",
       "      <td>1</td>\n",
       "      <td>2</td>\n",
       "      <td>104.95</td>\n",
       "      <td>7544.30</td>\n",
       "      <td>0</td>\n",
       "      <td>4</td>\n",
       "    </tr>\n",
       "    <tr>\n",
       "      <th>7041</th>\n",
       "      <td>0</td>\n",
       "      <td>0</td>\n",
       "      <td>0</td>\n",
       "      <td>0</td>\n",
       "      <td>72</td>\n",
       "      <td>1</td>\n",
       "      <td>0</td>\n",
       "      <td>2</td>\n",
       "      <td>1</td>\n",
       "      <td>1</td>\n",
       "      <td>...</td>\n",
       "      <td>1</td>\n",
       "      <td>1</td>\n",
       "      <td>1</td>\n",
       "      <td>2</td>\n",
       "      <td>1</td>\n",
       "      <td>0</td>\n",
       "      <td>21.15</td>\n",
       "      <td>1419.40</td>\n",
       "      <td>0</td>\n",
       "      <td>0</td>\n",
       "    </tr>\n",
       "    <tr>\n",
       "      <th>7042</th>\n",
       "      <td>0</td>\n",
       "      <td>0</td>\n",
       "      <td>1</td>\n",
       "      <td>1</td>\n",
       "      <td>72</td>\n",
       "      <td>1</td>\n",
       "      <td>2</td>\n",
       "      <td>1</td>\n",
       "      <td>0</td>\n",
       "      <td>2</td>\n",
       "      <td>...</td>\n",
       "      <td>0</td>\n",
       "      <td>2</td>\n",
       "      <td>2</td>\n",
       "      <td>1</td>\n",
       "      <td>1</td>\n",
       "      <td>1</td>\n",
       "      <td>103.20</td>\n",
       "      <td>7362.90</td>\n",
       "      <td>0</td>\n",
       "      <td>4</td>\n",
       "    </tr>\n",
       "  </tbody>\n",
       "</table>\n",
       "<p>7043 rows × 21 columns</p>\n",
       "</div>"
      ],
      "text/plain": [
       "      gender  Senior_Citizen  Partner  Dependents  Tenure_Months  \\\n",
       "0          0               0        1           1              0   \n",
       "1          1               0        0           1              0   \n",
       "2          0               0        1           1              0   \n",
       "3          1               0        1           1              0   \n",
       "4          0               0        1           1              0   \n",
       "...      ...             ...      ...         ...            ...   \n",
       "7038       0               0        1           1             72   \n",
       "7039       1               1        1           0             72   \n",
       "7040       1               0        0           0             72   \n",
       "7041       0               0        0           0             72   \n",
       "7042       0               0        1           1             72   \n",
       "\n",
       "      Phone_Service  Multiple_Lines  Internet_Service  Online_Security  \\\n",
       "0                 0               1                 0                2   \n",
       "1                 1               0                 2                1   \n",
       "2                 1               0                 0                2   \n",
       "3                 1               2                 2                1   \n",
       "4                 0               1                 0                2   \n",
       "...             ...             ...               ...              ...   \n",
       "7038              1               0                 0                2   \n",
       "7039              0               1                 0                2   \n",
       "7040              1               2                 1                0   \n",
       "7041              1               0                 2                1   \n",
       "7042              1               2                 1                0   \n",
       "\n",
       "      Online_Backup  ...  Tech_Support  Streaming_TV  Streaming_Movies  \\\n",
       "0                 0  ...             2             2                 0   \n",
       "1                 1  ...             1             1                 1   \n",
       "2                 2  ...             0             2                 2   \n",
       "3                 1  ...             1             1                 1   \n",
       "4                 2  ...             2             2                 0   \n",
       "...             ...  ...           ...           ...               ...   \n",
       "7038              2  ...             2             0                 2   \n",
       "7039              2  ...             2             2                 2   \n",
       "7040              2  ...             0             2                 2   \n",
       "7041              1  ...             1             1                 1   \n",
       "7042              2  ...             0             2                 2   \n",
       "\n",
       "      Contract  Paperless_Billing  Payment_Method  Monthly_Charges  \\\n",
       "0            2                  1               0            52.55   \n",
       "1            2                  0               3            20.25   \n",
       "2            2                  0               3            80.85   \n",
       "3            2                  0               3            25.75   \n",
       "4            2                  0               1            56.05   \n",
       "...        ...                ...             ...              ...   \n",
       "7038         2                  1               2            74.35   \n",
       "7039         2                  1               0            63.10   \n",
       "7040         1                  1               2           104.95   \n",
       "7041         2                  1               0            21.15   \n",
       "7042         1                  1               1           103.20   \n",
       "\n",
       "      Total_Charges  Churn  Number_Additional_Services  \n",
       "0              0.00      0                           4  \n",
       "1              0.00      0                           0  \n",
       "2              0.00      0                           5  \n",
       "3              0.00      0                           0  \n",
       "4              0.00      0                           5  \n",
       "...             ...    ...                         ...  \n",
       "7038        5237.40      0                           5  \n",
       "7039        4685.55      0                           6  \n",
       "7040        7544.30      0                           4  \n",
       "7041        1419.40      0                           0  \n",
       "7042        7362.90      0                           4  \n",
       "\n",
       "[7043 rows x 21 columns]"
      ]
     },
     "execution_count": 15,
     "metadata": {},
     "output_type": "execute_result"
    }
   ],
   "source": [
    "data"
   ]
  },
  {
   "cell_type": "code",
   "execution_count": null,
   "id": "ba9ddec9",
   "metadata": {
    "id": "ba9ddec9"
   },
   "outputs": [],
   "source": [
    "#relationship of data with churn"
   ]
  },
  {
   "cell_type": "code",
   "execution_count": 19,
   "id": "1e2b1ae4",
   "metadata": {
    "id": "1e2b1ae4",
    "outputId": "a69ebfdc-96ba-4080-d6fd-8676f3af1096"
   },
   "outputs": [
    {
     "name": "stderr",
     "output_type": "stream",
     "text": [
      "C:\\Users\\likhi\\AppData\\Local\\Temp\\ipykernel_5436\\1786798597.py:2: FutureWarning: The default value of numeric_only in DataFrame.corr is deprecated. In a future version, it will default to False. Select only valid columns or specify the value of numeric_only to silence this warning.\n",
      "  data.corr()[\"Churn\"].sort_values(ascending = False).plot(kind='bar')\n"
     ]
    },
    {
     "data": {
      "text/plain": [
       "<AxesSubplot: >"
      ]
     },
     "execution_count": 19,
     "metadata": {},
     "output_type": "execute_result"
    },
    {
     "data": {
      "image/png": "[encoded data removed]",
      "text/plain": [
       "<Figure size 1500x800 with 1 Axes>"
      ]
     },
     "metadata": {},
     "output_type": "display_data"
    }
   ],
   "source": [
    "plt.figure(figsize=(15,8))\n",
    "data.corr()[\"Churn\"].sort_values(ascending = False).plot(kind='bar')"
   ]
  },
  {
   "cell_type": "code",
   "execution_count": null,
   "id": "9edb8848",
   "metadata": {},
   "outputs": [],
   "source": []
  },
  {
   "cell_type": "code",
   "execution_count": null,
   "id": "7eaf96ab",
   "metadata": {
    "id": "7eaf96ab"
   },
   "outputs": [],
   "source": [
    "# senior citizen, monthly contract ,non automatic payment method,monthly charges are affecting churn proportionaly\n",
    "# gender , phone service, streaming services doesnt affect churn\n",
    "# online security and backup ,dependent, patners,automatic payment methods,total charges, tenure months, yearly contracts are affecting churn inversly"
   ]
  },
  {
   "cell_type": "code",
   "execution_count": null,
   "id": "09819790",
   "metadata": {
    "id": "09819790"
   },
   "outputs": [],
   "source": [
    "#scaling data"
   ]
  },
  {
   "cell_type": "code",
   "execution_count": 16,
   "id": "3d9fac5e",
   "metadata": {
    "id": "3d9fac5e"
   },
   "outputs": [],
   "source": [
    "from sklearn.preprocessing import StandardScaler"
   ]
  },
  {
   "cell_type": "code",
   "execution_count": 17,
   "id": "d39b3cb0",
   "metadata": {},
   "outputs": [],
   "source": [
    "scaler = StandardScaler()\n",
    "columns_to_scale = ['Tenure_Months', 'Monthly_Charges', 'Total_Charges']\n",
    "data[columns_to_scale] = scaler.fit_transform(data[columns_to_scale])"
   ]
  },
  {
   "cell_type": "code",
   "execution_count": null,
   "id": "1ae3f025",
   "metadata": {
    "id": "1ae3f025"
   },
   "outputs": [],
   "source": [
    "# seprate variables"
   ]
  },
  {
   "cell_type": "code",
   "execution_count": 18,
   "id": "31992387",
   "metadata": {
    "id": "31992387"
   },
   "outputs": [],
   "source": [
    "X = data.drop([\"Churn\"],axis=1)\n",
    "y = data['Churn']"
   ]
  },
  {
   "cell_type": "code",
   "execution_count": 66,
   "id": "231b4e40",
   "metadata": {},
   "outputs": [
    {
     "data": {
      "text/plain": [
       "0       0\n",
       "1       0\n",
       "2       0\n",
       "3       0\n",
       "4       0\n",
       "       ..\n",
       "7038    0\n",
       "7039    0\n",
       "7040    0\n",
       "7041    0\n",
       "7042    0\n",
       "Name: Churn, Length: 7043, dtype: int64"
      ]
     },
     "execution_count": 66,
     "metadata": {},
     "output_type": "execute_result"
    }
   ],
   "source": [
    "y"
   ]
  },
  {
   "cell_type": "code",
   "execution_count": null,
   "id": "51ef61ab",
   "metadata": {
    "id": "51ef61ab"
   },
   "outputs": [],
   "source": [
    "#split data"
   ]
  },
  {
   "cell_type": "code",
   "execution_count": 45,
   "id": "acd6b1a2",
   "metadata": {
    "id": "acd6b1a2"
   },
   "outputs": [],
   "source": [
    "X_train, X_test, y_train, y_test = train_test_split(X, y, test_size=0.2, random_state=42)\n",
    "sm = SMOTE(random_state=42)\n",
    "X_train_sm, y_train_sm = sm.fit_resample(X, y)"
   ]
  },
  {
   "cell_type": "markdown",
   "id": "9e1eb532",
   "metadata": {
    "id": "9e1eb532"
   },
   "source": [
    "# knn"
   ]
  },
  {
   "cell_type": "code",
   "execution_count": 74,
   "id": "692367ca",
   "metadata": {
    "id": "692367ca"
   },
   "outputs": [],
   "source": [
    "from sklearn.neighbors import KNeighborsClassifier"
   ]
  },
  {
   "cell_type": "code",
   "execution_count": 75,
   "id": "ccd44976",
   "metadata": {
    "id": "ccd44976"
   },
   "outputs": [],
   "source": [
    "knn = KNeighborsClassifier()"
   ]
  },
  {
   "cell_type": "code",
   "execution_count": 76,
   "id": "3751d531",
   "metadata": {
    "id": "3751d531",
    "outputId": "0c690064-6386-49ad-a1bc-fec94536aaaf"
   },
   "outputs": [],
   "source": [
    "model_knn=knn.fit(X_train,y_train)"
   ]
  },
  {
   "cell_type": "code",
   "execution_count": 77,
   "id": "d5b96581",
   "metadata": {
    "id": "d5b96581"
   },
   "outputs": [],
   "source": [
    "pred = knn.predict(X_test)"
   ]
  },
  {
   "cell_type": "code",
   "execution_count": 78,
   "id": "5150391e",
   "metadata": {
    "id": "5150391e",
    "outputId": "6fb028a2-dbcf-4e98-cc07-7e59b22d8fd8"
   },
   "outputs": [
    {
     "name": "stdout",
     "output_type": "stream",
     "text": [
      "              precision    recall  f1-score   support\n",
      "\n",
      "           0       0.83      0.85      0.84      1035\n",
      "           1       0.55      0.51      0.53       374\n",
      "\n",
      "    accuracy                           0.76      1409\n",
      "   macro avg       0.69      0.68      0.68      1409\n",
      "weighted avg       0.75      0.76      0.76      1409\n",
      "\n"
     ]
    }
   ],
   "source": [
    "print(classification_report(y_test,pred))"
   ]
  },
  {
   "cell_type": "code",
   "execution_count": 102,
   "id": "50a33cd5",
   "metadata": {},
   "outputs": [
    {
     "data": {
      "text/plain": [
       "(0.8409655662051828, 0.758694109297374)"
      ]
     },
     "execution_count": 102,
     "metadata": {},
     "output_type": "execute_result"
    }
   ],
   "source": [
    "model_knn.score(X_train, y_train), model_knn.score(X_test, y_test)"
   ]
  },
  {
   "cell_type": "code",
   "execution_count": 182,
   "id": "70876ec3",
   "metadata": {
    "id": "70876ec3",
    "outputId": "bf73c7bc-b35d-4ed7-d99f-2e069ef945ac"
   },
   "outputs": [
    {
     "data": {
      "text/plain": [
       "<sklearn.metrics._plot.confusion_matrix.ConfusionMatrixDisplay at 0x1c76ec7f510>"
      ]
     },
     "execution_count": 182,
     "metadata": {},
     "output_type": "execute_result"
    },
    {
     "data": {
      "image/png": "[encoded data removed]",
      "text/plain": [
       "<Figure size 640x480 with 2 Axes>"
      ]
     },
     "metadata": {},
     "output_type": "display_data"
    }
   ],
   "source": [
    "ConfusionMatrixDisplay(confusion_matrix = confusion_matrix(y_test,pred), display_labels = [\"No\", \"Yes\"]).plot()"
   ]
  },
  {
   "cell_type": "code",
   "execution_count": null,
   "id": "641258a9",
   "metadata": {
    "id": "641258a9"
   },
   "outputs": [],
   "source": []
  },
  {
   "cell_type": "markdown",
   "id": "0bd63d99",
   "metadata": {
    "id": "0bd63d99"
   },
   "source": [
    "# random forest"
   ]
  },
  {
   "cell_type": "code",
   "execution_count": 90,
   "id": "b4bdb856",
   "metadata": {
    "id": "b4bdb856"
   },
   "outputs": [],
   "source": [
    "from sklearn.ensemble import RandomForestClassifier"
   ]
  },
  {
   "cell_type": "code",
   "execution_count": 91,
   "id": "38e4e55e",
   "metadata": {
    "id": "38e4e55e"
   },
   "outputs": [],
   "source": [
    "rfc = RandomForestClassifier()"
   ]
  },
  {
   "cell_type": "code",
   "execution_count": 92,
   "id": "3b56ace0",
   "metadata": {
    "id": "3b56ace0",
    "outputId": "b5642a23-aa46-4952-da4b-53c607b8ce96"
   },
   "outputs": [],
   "source": [
    "model_rfc=rfc.fit(X_train,y_train)"
   ]
  },
  {
   "cell_type": "code",
   "execution_count": 93,
   "id": "f35e930e",
   "metadata": {
    "id": "f35e930e"
   },
   "outputs": [],
   "source": [
    "pred = rfc.predict(X_test)"
   ]
  },
  {
   "cell_type": "code",
   "execution_count": 94,
   "id": "66a57802",
   "metadata": {
    "id": "66a57802",
    "outputId": "813d81a3-2c93-4f00-89a3-bcbc380e531e"
   },
   "outputs": [
    {
     "name": "stdout",
     "output_type": "stream",
     "text": [
      "              precision    recall  f1-score   support\n",
      "\n",
      "           0       0.83      0.90      0.86      1035\n",
      "           1       0.64      0.49      0.56       374\n",
      "\n",
      "    accuracy                           0.79      1409\n",
      "   macro avg       0.74      0.70      0.71      1409\n",
      "weighted avg       0.78      0.79      0.78      1409\n",
      "\n"
     ]
    }
   ],
   "source": [
    "print(classification_report(y_test,pred))"
   ]
  },
  {
   "cell_type": "code",
   "execution_count": 95,
   "id": "2d8affc4",
   "metadata": {},
   "outputs": [
    {
     "data": {
      "text/plain": [
       "<sklearn.metrics._plot.confusion_matrix.ConfusionMatrixDisplay at 0x2203c031250>"
      ]
     },
     "execution_count": 95,
     "metadata": {},
     "output_type": "execute_result"
    },
    {
     "data": {
      "image/png": "[encoded data removed]",
      "text/plain": [
       "<Figure size 800x550 with 2 Axes>"
      ]
     },
     "metadata": {},
     "output_type": "display_data"
    }
   ],
   "source": [
    "ConfusionMatrixDisplay(confusion_matrix = confusion_matrix(y_test,pred), display_labels = [\"No\", \"Yes\"]).plot()"
   ]
  },
  {
   "cell_type": "code",
   "execution_count": null,
   "id": "0484e1e1",
   "metadata": {},
   "outputs": [],
   "source": []
  },
  {
   "cell_type": "markdown",
   "id": "e3992061",
   "metadata": {
    "id": "e3992061"
   },
   "source": [
    "# logistic regression"
   ]
  },
  {
   "cell_type": "code",
   "execution_count": 50,
   "id": "01c520e2",
   "metadata": {
    "id": "01c520e2"
   },
   "outputs": [],
   "source": [
    "from sklearn.linear_model import LogisticRegression"
   ]
  },
  {
   "cell_type": "code",
   "execution_count": 51,
   "id": "26037729",
   "metadata": {
    "id": "26037729"
   },
   "outputs": [],
   "source": [
    "lor = LogisticRegression()"
   ]
  },
  {
   "cell_type": "code",
   "execution_count": 86,
   "id": "62aa6541",
   "metadata": {
    "id": "62aa6541",
    "outputId": "1f77d9de-ab58-4470-b1d9-e859a972442b"
   },
   "outputs": [],
   "source": [
    "model_lor=lor.fit(X_train,y_train)"
   ]
  },
  {
   "cell_type": "code",
   "execution_count": 67,
   "id": "ebc47627",
   "metadata": {
    "id": "ebc47627"
   },
   "outputs": [],
   "source": [
    "pred = lor.predict(X_test)"
   ]
  },
  {
   "cell_type": "code",
   "execution_count": 68,
   "id": "68c6f9ab",
   "metadata": {
    "id": "68c6f9ab",
    "outputId": "1945c7a8-7edf-4b20-c387-1d09de406fcc"
   },
   "outputs": [
    {
     "name": "stdout",
     "output_type": "stream",
     "text": [
      "              precision    recall  f1-score   support\n",
      "\n",
      "           0       0.84      0.90      0.87      1035\n",
      "           1       0.65      0.54      0.59       374\n",
      "\n",
      "    accuracy                           0.80      1409\n",
      "   macro avg       0.75      0.72      0.73      1409\n",
      "weighted avg       0.79      0.80      0.79      1409\n",
      "\n"
     ]
    }
   ],
   "source": [
    "print(classification_report(y_test,pred))"
   ]
  },
  {
   "cell_type": "code",
   "execution_count": 103,
   "id": "0d8965d2",
   "metadata": {},
   "outputs": [
    {
     "data": {
      "text/plain": [
       "(0.8019169329073482, 0.801277501774308)"
      ]
     },
     "execution_count": 103,
     "metadata": {},
     "output_type": "execute_result"
    }
   ],
   "source": [
    "model_lor.score(X_train, y_train), model_lor.score(X_test, y_test)"
   ]
  },
  {
   "cell_type": "code",
   "execution_count": 189,
   "id": "f3424dff",
   "metadata": {},
   "outputs": [
    {
     "data": {
      "text/plain": [
       "<sklearn.metrics._plot.confusion_matrix.ConfusionMatrixDisplay at 0x1c76edc7490>"
      ]
     },
     "execution_count": 189,
     "metadata": {},
     "output_type": "execute_result"
    },
    {
     "data": {
      "image/png": "[encoded data removed]",
      "text/plain": [
       "<Figure size 640x480 with 2 Axes>"
      ]
     },
     "metadata": {},
     "output_type": "display_data"
    }
   ],
   "source": [
    "ConfusionMatrixDisplay(confusion_matrix = confusion_matrix(y_test,pred), display_labels = [\"No\", \"Yes\"]).plot()"
   ]
  },
  {
   "cell_type": "markdown",
   "id": "8797b18b",
   "metadata": {
    "id": "8797b18b"
   },
   "source": [
    "# gradiant boost"
   ]
  },
  {
   "cell_type": "code",
   "execution_count": 55,
   "id": "d9ccd249",
   "metadata": {
    "id": "d9ccd249"
   },
   "outputs": [],
   "source": [
    "from sklearn.ensemble import GradientBoostingClassifier"
   ]
  },
  {
   "cell_type": "code",
   "execution_count": 56,
   "id": "a1cd6e77",
   "metadata": {
    "id": "a1cd6e77"
   },
   "outputs": [],
   "source": [
    "gbc = GradientBoostingClassifier()"
   ]
  },
  {
   "cell_type": "code",
   "execution_count": 63,
   "id": "2349ec99",
   "metadata": {
    "id": "2349ec99",
    "outputId": "160fbc4e-258f-49a3-c196-deedcf376491"
   },
   "outputs": [],
   "source": [
    "model_gbc = gbc.fit(X_train,y_train)"
   ]
  },
  {
   "cell_type": "code",
   "execution_count": 64,
   "id": "eb4cf5dd",
   "metadata": {
    "id": "eb4cf5dd"
   },
   "outputs": [],
   "source": [
    "pred = gbc.predict(X_test)"
   ]
  },
  {
   "cell_type": "code",
   "execution_count": 65,
   "id": "b271cbd6",
   "metadata": {
    "id": "b271cbd6",
    "outputId": "ff869298-dd80-41a9-fca7-a7d19c2b6f7a"
   },
   "outputs": [
    {
     "name": "stdout",
     "output_type": "stream",
     "text": [
      "              precision    recall  f1-score   support\n",
      "\n",
      "           0       0.84      0.91      0.87      1035\n",
      "           1       0.67      0.53      0.59       374\n",
      "\n",
      "    accuracy                           0.81      1409\n",
      "   macro avg       0.76      0.72      0.73      1409\n",
      "weighted avg       0.80      0.81      0.80      1409\n",
      "\n"
     ]
    }
   ],
   "source": [
    "print(classification_report(y_test,pred))"
   ]
  },
  {
   "cell_type": "code",
   "execution_count": 196,
   "id": "8320cbf2",
   "metadata": {},
   "outputs": [
    {
     "data": {
      "text/plain": [
       "<sklearn.metrics._plot.confusion_matrix.ConfusionMatrixDisplay at 0x1c76ee2a310>"
      ]
     },
     "execution_count": 196,
     "metadata": {},
     "output_type": "execute_result"
    },
    {
     "data": {
      "image/png": "[encoded data removed]",
      "text/plain": [
       "<Figure size 640x480 with 2 Axes>"
      ]
     },
     "metadata": {},
     "output_type": "display_data"
    }
   ],
   "source": [
    "ConfusionMatrixDisplay(confusion_matrix = confusion_matrix(y_test,pred), display_labels = [\"No\", \"Yes\"]).plot()"
   ]
  },
  {
   "cell_type": "code",
   "execution_count": 87,
   "id": "96f6f138",
   "metadata": {},
   "outputs": [
    {
     "name": "stdout",
     "output_type": "stream",
     "text": [
      "0.8307615799943165 0.7493270298896897 0.8143752098995066 0.834871735255367\n"
     ]
    }
   ],
   "source": [
    "pred_prob_lr = model_lor.predict_proba(X_test)\n",
    "pred_prob_kn = model_knn.predict_proba(X_test)\n",
    "pred_prob_rf = model_rfc.predict_proba(X_test)\n",
    "pred_prob_gb = model_gbc.predict_proba(X_test)\n",
    "\n",
    "\n",
    "from sklearn.metrics import roc_curve\n",
    "fpr1, tpr1, thresh1 = roc_curve(y_test, pred_prob_lr[:,1], pos_label=1)\n",
    "fpr2, tpr2, thresh2 = roc_curve(y_test, pred_prob_kn[:,1], pos_label=1)\n",
    "fpr3, tpr3, thresh3 = roc_curve(y_test, pred_prob_rf[:,1], pos_label=1)\n",
    "fpr4, tpr4, thresh4 = roc_curve(y_test, pred_prob_gb[:,1], pos_label=1)\n",
    "\n",
    "\n",
    "random_probs = [0 for i in range(len(y_test))]\n",
    "p_fpr, p_tpr, _ = roc_curve(y_test, random_probs, pos_label=1)\n",
    "\n",
    "from sklearn.metrics import roc_auc_score\n",
    "auc_score1 = roc_auc_score(y_test, pred_prob_lr[:,1])\n",
    "auc_score2 = roc_auc_score(y_test, pred_prob_kn[:,1])\n",
    "auc_score3 = roc_auc_score(y_test, pred_prob_rf[:,1])\n",
    "auc_score4 = roc_auc_score(y_test, pred_prob_gb[:,1])\n",
    "\n",
    "print(auc_score1 , auc_score2, auc_score3, auc_score4)"
   ]
  },
  {
   "cell_type": "code",
   "execution_count": 88,
   "id": "ff96ed38",
   "metadata": {},
   "outputs": [
    {
     "name": "stderr",
     "output_type": "stream",
     "text": [
      "C:\\Users\\likhi\\AppData\\Local\\Temp\\ipykernel_13384\\3454952452.py:2: MatplotlibDeprecationWarning: The seaborn styles shipped by Matplotlib are deprecated since 3.6, as they no longer correspond to the styles shipped by seaborn. However, they will remain available as 'seaborn-v0_8-<style>'. Alternatively, directly use the seaborn API instead.\n",
      "  plt.style.use('seaborn')\n"
     ]
    },
    {
     "data": {
      "image/png": "[encoded data removed]",
      "text/plain": [
       "<Figure size 800x550 with 1 Axes>"
      ]
     },
     "metadata": {},
     "output_type": "display_data"
    }
   ],
   "source": [
    "import matplotlib.pyplot as plt\n",
    "plt.style.use('seaborn')\n",
    "\n",
    "# plot roc curves\n",
    "plt.plot(fpr1, tpr1, linestyle='--',color='orange', label='Logistic Regression')\n",
    "plt.plot(fpr2, tpr2, linestyle='--',color='green', label='Naive Bayes')\n",
    "plt.plot(fpr3, tpr3, linestyle='--',color='blue', label='Random Forest')\n",
    "plt.plot(fpr4, tpr4, linestyle='--',color='red', label='Gradient Boost')\n",
    "\n",
    "plt.plot(p_fpr, p_tpr, linestyle='--', color='blue')\n",
    "# title\n",
    "plt.title('ROC curve')\n",
    "# x label\n",
    "plt.xlabel('False Positive Rate')\n",
    "# y label\n",
    "plt.ylabel('True Positive rate')\n",
    "\n",
    "plt.legend(loc='best')\n",
    "plt.savefig('ROC',dpi=300)\n",
    "plt.show();"
   ]
  },
  {
   "cell_type": "code",
   "execution_count": 105,
   "id": "a3d2fddd",
   "metadata": {},
   "outputs": [
    {
     "data": {
      "text/plain": [
       "<AxesSubplot: >"
      ]
     },
     "execution_count": 105,
     "metadata": {},
     "output_type": "execute_result"
    },
    {
     "data": {
      "image/png": "[encoded data removed]",
      "text/plain": [
       "<Figure size 800x550 with 1 Axes>"
      ]
     },
     "metadata": {},
     "output_type": "display_data"
    }
   ],
   "source": [
    "importances =model_gbc.feature_importances_\n",
    "weights =pd.Series(importances,index =X.columns.values)\n",
    "weights.sort_values()[-10:].plot(kind=\"barh\")"
   ]
  }
 ],
 "metadata": {
  "colab": {
   "provenance": []
  },
  "kernelspec": {
   "display_name": "Python 3 (ipykernel)",
   "language": "python",
   "name": "python3"
  },
  "language_info": {
   "codemirror_mode": {
    "name": "ipython",
    "version": 3
   },
   "file_extension": ".py",
   "mimetype": "text/x-python",
   "name": "python",
   "nbconvert_exporter": "python",
   "pygments_lexer": "ipython3",
   "version": "3.10.9"
  }
 },
 "nbformat": 4,
 "nbformat_minor": 5
}
